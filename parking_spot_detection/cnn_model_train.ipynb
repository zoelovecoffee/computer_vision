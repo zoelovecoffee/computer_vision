{
 "cells": [
  {
   "cell_type": "markdown",
   "metadata": {},
   "source": [
    "### 步骤1 安装并引入必要的库"
   ]
  },
  {
   "cell_type": "code",
   "execution_count": null,
   "metadata": {},
   "outputs": [],
   "source": [
    "!pip install numpy==1.16.0\n",
    "!pip install pillow==6.2.1\n",
    "!pip install matplotlib==3.1.0"
   ]
  },
  {
   "cell_type": "code",
   "execution_count": 1,
   "metadata": {
    "ExecuteTime": {
     "end_time": "2021-05-25T03:25:50.507615Z",
     "start_time": "2021-05-25T03:23:27.442580Z"
    },
    "scrolled": false
   },
   "outputs": [
    {
     "name": "stdout",
     "output_type": "stream",
     "text": [
      "Looking in indexes: http://mirrors.aliyun.com/pypi/simple/\n",
      "Collecting tensorflow==2.0.0\n",
      "\u001b[?25l  Downloading http://mirrors.aliyun.com/pypi/packages/2c/72/6b3264aa2889b7dde7663464b99587d95cd6a5f3b9b30181f14d78a63e64/tensorflow-2.0.0-cp37-cp37m-macosx_10_11_x86_64.whl (102.7MB)\n",
      "\u001b[K     |████████████████████████████████| 102.7MB 83kB/s eta 0:00:011    |█████▋                          | 18.1MB 1.5MB/s eta 0:00:58     |████████████████▎               | 52.2MB 1.4MB/s eta 0:00:38     |████████████████████▍           | 65.6MB 927kB/s eta 0:00:41     |██████████████████████████████▎ | 97.3MB 326kB/s eta 0:00:17\n",
      "\u001b[?25hRequirement already satisfied: numpy<2.0,>=1.16.0 in /Applications/anaconda3/lib/python3.7/site-packages (from tensorflow==2.0.0) (1.16.0)\n",
      "Requirement already satisfied: absl-py>=0.7.0 in /Applications/anaconda3/lib/python3.7/site-packages (from tensorflow==2.0.0) (0.8.1)\n",
      "Requirement already satisfied: keras-applications>=1.0.8 in /Applications/anaconda3/lib/python3.7/site-packages (from tensorflow==2.0.0) (1.0.8)\n",
      "Requirement already satisfied: keras-preprocessing>=1.0.5 in /Applications/anaconda3/lib/python3.7/site-packages (from tensorflow==2.0.0) (1.1.2)\n",
      "Collecting tensorflow-estimator<2.1.0,>=2.0.0 (from tensorflow==2.0.0)\n",
      "\u001b[?25l  Downloading http://mirrors.aliyun.com/pypi/packages/fc/08/8b927337b7019c374719145d1dceba21a8bb909b93b1ad6f8fb7d22c1ca1/tensorflow_estimator-2.0.1-py2.py3-none-any.whl (449kB)\n",
      "\u001b[K     |████████████████████████████████| 450kB 1.6MB/s eta 0:00:01\n",
      "\u001b[?25hRequirement already satisfied: wrapt>=1.11.1 in /Applications/anaconda3/lib/python3.7/site-packages (from tensorflow==2.0.0) (1.11.2)\n",
      "Requirement already satisfied: grpcio>=1.8.6 in /Applications/anaconda3/lib/python3.7/site-packages (from tensorflow==2.0.0) (1.25.0)\n",
      "Requirement already satisfied: protobuf>=3.6.1 in /Applications/anaconda3/lib/python3.7/site-packages (from tensorflow==2.0.0) (3.11.1)\n",
      "Collecting tensorboard<2.1.0,>=2.0.0 (from tensorflow==2.0.0)\n",
      "\u001b[?25l  Downloading http://mirrors.aliyun.com/pypi/packages/76/54/99b9d5d52d5cb732f099baaaf7740403e83fe6b0cedde940fabd2b13d75a/tensorboard-2.0.2-py3-none-any.whl (3.8MB)\n",
      "\u001b[K     |████████████████████████████████| 3.8MB 1.1MB/s eta 0:00:01\n",
      "\u001b[?25hCollecting gast==0.2.2 (from tensorflow==2.0.0)\n",
      "  Downloading http://mirrors.aliyun.com/pypi/packages/4e/35/11749bf99b2d4e3cceb4d55ca22590b0d7c2c62b9de38ac4a4a7f4687421/gast-0.2.2.tar.gz\n",
      "Requirement already satisfied: google-pasta>=0.1.6 in /Applications/anaconda3/lib/python3.7/site-packages (from tensorflow==2.0.0) (0.1.8)\n",
      "Requirement already satisfied: six>=1.10.0 in /Applications/anaconda3/lib/python3.7/site-packages (from tensorflow==2.0.0) (1.12.0)\n",
      "Requirement already satisfied: wheel>=0.26 in /Applications/anaconda3/lib/python3.7/site-packages (from tensorflow==2.0.0) (0.33.6)\n",
      "Requirement already satisfied: termcolor>=1.1.0 in /Applications/anaconda3/lib/python3.7/site-packages (from tensorflow==2.0.0) (1.1.0)\n",
      "Requirement already satisfied: opt-einsum>=2.3.2 in /Applications/anaconda3/lib/python3.7/site-packages (from tensorflow==2.0.0) (3.1.0)\n",
      "Requirement already satisfied: astor>=0.6.0 in /Applications/anaconda3/lib/python3.7/site-packages (from tensorflow==2.0.0) (0.8.1)\n",
      "Requirement already satisfied: h5py in /Applications/anaconda3/lib/python3.7/site-packages (from keras-applications>=1.0.8->tensorflow==2.0.0) (2.9.0)\n",
      "Requirement already satisfied: setuptools in /Applications/anaconda3/lib/python3.7/site-packages (from protobuf>=3.6.1->tensorflow==2.0.0) (41.4.0)\n",
      "Requirement already satisfied: requests<3,>=2.21.0 in /Applications/anaconda3/lib/python3.7/site-packages (from tensorboard<2.1.0,>=2.0.0->tensorflow==2.0.0) (2.24.0)\n",
      "Requirement already satisfied: google-auth<2,>=1.6.3 in /Applications/anaconda3/lib/python3.7/site-packages (from tensorboard<2.1.0,>=2.0.0->tensorflow==2.0.0) (1.8.2)\n",
      "Requirement already satisfied: werkzeug>=0.11.15 in /Applications/anaconda3/lib/python3.7/site-packages (from tensorboard<2.1.0,>=2.0.0->tensorflow==2.0.0) (0.16.0)\n",
      "Requirement already satisfied: google-auth-oauthlib<0.5,>=0.4.1 in /Applications/anaconda3/lib/python3.7/site-packages (from tensorboard<2.1.0,>=2.0.0->tensorflow==2.0.0) (0.4.1)\n",
      "Requirement already satisfied: markdown>=2.6.8 in /Applications/anaconda3/lib/python3.7/site-packages (from tensorboard<2.1.0,>=2.0.0->tensorflow==2.0.0) (3.1.1)\n",
      "Requirement already satisfied: idna<3,>=2.5 in /Applications/anaconda3/lib/python3.7/site-packages (from requests<3,>=2.21.0->tensorboard<2.1.0,>=2.0.0->tensorflow==2.0.0) (2.8)\n",
      "Requirement already satisfied: chardet<4,>=3.0.2 in /Applications/anaconda3/lib/python3.7/site-packages (from requests<3,>=2.21.0->tensorboard<2.1.0,>=2.0.0->tensorflow==2.0.0) (3.0.4)\n",
      "Requirement already satisfied: urllib3!=1.25.0,!=1.25.1,<1.26,>=1.21.1 in /Applications/anaconda3/lib/python3.7/site-packages (from requests<3,>=2.21.0->tensorboard<2.1.0,>=2.0.0->tensorflow==2.0.0) (1.25.11)\n",
      "Requirement already satisfied: certifi>=2017.4.17 in /Applications/anaconda3/lib/python3.7/site-packages (from requests<3,>=2.21.0->tensorboard<2.1.0,>=2.0.0->tensorflow==2.0.0) (2020.4.5.1)\n",
      "Requirement already satisfied: rsa<4.1,>=3.1.4 in /Applications/anaconda3/lib/python3.7/site-packages (from google-auth<2,>=1.6.3->tensorboard<2.1.0,>=2.0.0->tensorflow==2.0.0) (4.0)\n",
      "Requirement already satisfied: cachetools<3.2,>=2.0.0 in /Applications/anaconda3/lib/python3.7/site-packages (from google-auth<2,>=1.6.3->tensorboard<2.1.0,>=2.0.0->tensorflow==2.0.0) (3.1.1)\n",
      "Requirement already satisfied: pyasn1-modules>=0.2.1 in /Applications/anaconda3/lib/python3.7/site-packages (from google-auth<2,>=1.6.3->tensorboard<2.1.0,>=2.0.0->tensorflow==2.0.0) (0.2.7)\n",
      "Requirement already satisfied: requests-oauthlib>=0.7.0 in /Applications/anaconda3/lib/python3.7/site-packages (from google-auth-oauthlib<0.5,>=0.4.1->tensorboard<2.1.0,>=2.0.0->tensorflow==2.0.0) (1.3.0)\n",
      "Requirement already satisfied: pyasn1>=0.1.3 in /Applications/anaconda3/lib/python3.7/site-packages (from rsa<4.1,>=3.1.4->google-auth<2,>=1.6.3->tensorboard<2.1.0,>=2.0.0->tensorflow==2.0.0) (0.4.8)\n",
      "Requirement already satisfied: oauthlib>=3.0.0 in /Applications/anaconda3/lib/python3.7/site-packages (from requests-oauthlib>=0.7.0->google-auth-oauthlib<0.5,>=0.4.1->tensorboard<2.1.0,>=2.0.0->tensorflow==2.0.0) (3.1.0)\n",
      "Building wheels for collected packages: gast\n",
      "  Building wheel for gast (setup.py) ... \u001b[?25ldone\n",
      "\u001b[?25h  Created wheel for gast: filename=gast-0.2.2-cp37-none-any.whl size=7540 sha256=b593c64282102c2351da2a82a9afe0403d2a8d9a9782b7ff66ad0ac2795b8122\n",
      "  Stored in directory: /Users/zeyuwang/Library/Caches/pip/wheels/1e/bb/b8/f56c307067a9e47f2e28dcdeaedbdd4675706187abfddbff3b\n",
      "Successfully built gast\n",
      "Installing collected packages: tensorflow-estimator, tensorboard, gast, tensorflow\n",
      "  Found existing installation: tensorflow-estimator 2.3.0\n",
      "    Uninstalling tensorflow-estimator-2.3.0:\n",
      "      Successfully uninstalled tensorflow-estimator-2.3.0\n",
      "  Found existing installation: tensorboard 2.4.0\n",
      "    Uninstalling tensorboard-2.4.0:\n",
      "      Successfully uninstalled tensorboard-2.4.0\n",
      "  Found existing installation: gast 0.3.3\n",
      "    Uninstalling gast-0.3.3:\n",
      "      Successfully uninstalled gast-0.3.3\n",
      "  Found existing installation: tensorflow 2.3.1\n",
      "    Uninstalling tensorflow-2.3.1:\n",
      "      Successfully uninstalled tensorflow-2.3.1\n",
      "Successfully installed gast-0.2.2 tensorboard-2.0.2 tensorflow-2.0.0 tensorflow-estimator-2.0.1\n"
     ]
    }
   ],
   "source": [
    "!pip install tensorflow==2.0.0"
   ]
  },
  {
   "cell_type": "code",
   "execution_count": 2,
   "metadata": {
    "ExecuteTime": {
     "end_time": "2021-05-25T03:26:11.548980Z",
     "start_time": "2021-05-25T03:26:01.546729Z"
    }
   },
   "outputs": [],
   "source": [
    "import h5py\n",
    "import numpy\n",
    "import os\n",
    "import zipfile\n",
    "from IPython.display import Image\n",
    "import tensorflow\n",
    "from tensorflow.keras import applications\n",
    "from tensorflow.keras.preprocessing.image import ImageDataGenerator\n",
    "from tensorflow.keras import optimizers\n",
    "from tensorflow.keras.models import Sequential, Model\n",
    "from tensorflow.keras.layers import Flatten, Dense\n",
    "from tensorflow.keras.callbacks import ModelCheckpoint\n",
    "import matplotlib.pyplot as plt\n",
    "%matplotlib inline"
   ]
  },
  {
   "cell_type": "markdown",
   "metadata": {},
   "source": [
    "### 步骤2 载入图片数据"
   ]
  },
  {
   "cell_type": "code",
   "execution_count": null,
   "metadata": {},
   "outputs": [],
   "source": [
    "#解压训练集数据\n",
    "with zipfile.ZipFile('./train_data.zip') as z: \n",
    "    z.extractall()  "
   ]
  },
  {
   "cell_type": "code",
   "execution_count": 3,
   "metadata": {
    "ExecuteTime": {
     "end_time": "2021-05-25T03:26:28.002538Z",
     "start_time": "2021-05-25T03:26:27.986718Z"
    }
   },
   "outputs": [
    {
     "name": "stdout",
     "output_type": "stream",
     "text": [
      "381 164\n"
     ]
    }
   ],
   "source": [
    "#遍历解压后的数据集，统计训练集和验证集里的数据量\n",
    "files_train = 0\n",
    "files_validation = 0\n",
    "\n",
    "folder1 = 'train_data/train'\n",
    "for sub_folder in os.listdir(folder1):\n",
    "    if sub_folder != '.DS_Store':\n",
    "        path, dirs, files = next(os.walk(os.path.join(folder1,sub_folder)))\n",
    "        files_train += len(files)\n",
    "\n",
    "folder2 = 'train_data/test'\n",
    "for sub_folder in os.listdir(folder2):\n",
    "    if sub_folder != '.DS_Store':\n",
    "        path, dirs, files = next(os.walk(os.path.join(folder2,sub_folder)))\n",
    "        files_validation += len(files)\n",
    "#显示训练集的图片量和验证集的图片量\n",
    "print(files_train,files_validation)"
   ]
  },
  {
   "cell_type": "markdown",
   "metadata": {},
   "source": [
    "### 步骤3 设置主要参数"
   ]
  },
  {
   "cell_type": "code",
   "execution_count": 4,
   "metadata": {
    "ExecuteTime": {
     "end_time": "2021-05-25T03:26:34.506466Z",
     "start_time": "2021-05-25T03:26:34.500274Z"
    }
   },
   "outputs": [],
   "source": [
    "# 请在这里填写您的代码\n",
    "\n",
    "#图片宽和高为48*48\n",
    "img_width, img_height = 48, 48\n",
    "#设置文件路径\n",
    "train_data_dir = \"train_data/train\"\n",
    "validation_data_dir = \"train_data/test\"\n",
    "#批次大小\n",
    "batch_size = 32\n",
    "#周期数\n",
    "epochs = 15\n",
    "#种类数（空/非空车位）\n",
    "num_classes = 2"
   ]
  },
  {
   "cell_type": "markdown",
   "metadata": {},
   "source": [
    "### 步骤4 用预训练的VGG网络搭建CNN模型"
   ]
  },
  {
   "cell_type": "code",
   "execution_count": 5,
   "metadata": {
    "ExecuteTime": {
     "end_time": "2021-05-25T03:26:50.495532Z",
     "start_time": "2021-05-25T03:26:49.973056Z"
    }
   },
   "outputs": [],
   "source": [
    "#载入预训练好的VGG16神经网络，将图片数据输入网络\n",
    "model = applications.VGG16(weights = \"imagenet\", include_top=False, input_shape = (img_width, img_height, 3))\n",
    "for layer in model.layers[:10]:\n",
    "    layer.trainable = False"
   ]
  },
  {
   "cell_type": "code",
   "execution_count": 6,
   "metadata": {
    "ExecuteTime": {
     "end_time": "2021-05-25T03:26:59.265322Z",
     "start_time": "2021-05-25T03:26:59.150555Z"
    }
   },
   "outputs": [],
   "source": [
    "#将输出值展平\n",
    "x = model.output\n",
    "x = Flatten()(x)\n",
    "#建立全连接层，并用softmax激活\n",
    "predictions = Dense(num_classes, activation=\"softmax\")(x)\n",
    "#创建模型\n",
    "model_final = Model(inputs = model.input, outputs = predictions)\n",
    "#配置模型的训练方法\n",
    "model_final.compile(loss = \"categorical_crossentropy\", \n",
    "                    optimizer = optimizers.SGD(lr=0.0001, momentum=0.9), \n",
    "                    metrics=[\"accuracy\"]) "
   ]
  },
  {
   "cell_type": "code",
   "execution_count": 7,
   "metadata": {
    "ExecuteTime": {
     "end_time": "2021-05-25T03:27:07.154637Z",
     "start_time": "2021-05-25T03:27:07.147288Z"
    }
   },
   "outputs": [],
   "source": [
    "# 请在这里填写您的代码\n",
    "\n",
    "#训练集数据\n",
    "train_datagen = ImageDataGenerator(\n",
    "rescale = 1./255,\n",
    "horizontal_flip = True,\n",
    "fill_mode = \"nearest\",\n",
    "zoom_range = 0.1,\n",
    "width_shift_range = 0.1,\n",
    "height_shift_range=0.1,\n",
    "rotation_range=5)\n",
    "#验证集数据\n",
    "test_datagen = ImageDataGenerator(\n",
    "rescale = 1./255,\n",
    "horizontal_flip = True,\n",
    "fill_mode = \"nearest\",\n",
    "zoom_range = 0.1,\n",
    "width_shift_range = 0.1,\n",
    "height_shift_range=0.1,\n",
    "rotation_range=5)"
   ]
  },
  {
   "cell_type": "code",
   "execution_count": 8,
   "metadata": {
    "ExecuteTime": {
     "end_time": "2021-05-25T03:27:15.766086Z",
     "start_time": "2021-05-25T03:27:15.540390Z"
    }
   },
   "outputs": [
    {
     "name": "stdout",
     "output_type": "stream",
     "text": [
      "Found 381 images belonging to 2 classes.\n",
      "Found 164 images belonging to 2 classes.\n"
     ]
    }
   ],
   "source": [
    "#用flow_from_directory从指定路径中生成数据集\n",
    "train_generator = train_datagen.flow_from_directory(\n",
    "train_data_dir,\n",
    "target_size = (img_height, img_width),\n",
    "batch_size = batch_size,\n",
    "class_mode = \"categorical\")\n",
    "\n",
    "validation_generator = test_datagen.flow_from_directory(\n",
    "validation_data_dir,\n",
    "target_size = (img_height, img_width),\n",
    "class_mode = \"categorical\")"
   ]
  },
  {
   "cell_type": "code",
   "execution_count": 9,
   "metadata": {
    "ExecuteTime": {
     "end_time": "2021-05-25T03:28:05.684616Z",
     "start_time": "2021-05-25T03:28:05.676903Z"
    }
   },
   "outputs": [],
   "source": [
    "#将完整模型保存到model1.hdf5文件中\n",
    "checkpoint = ModelCheckpoint(\"model1.hdf5\", monitor='val_accuracy', \n",
    "                             verbose=1, save_best_only=True, \n",
    "                             save_weights_only=False, mode='auto')"
   ]
  },
  {
   "cell_type": "markdown",
   "metadata": {},
   "source": [
    "### 步骤5 训练模型"
   ]
  },
  {
   "cell_type": "code",
   "execution_count": 10,
   "metadata": {
    "ExecuteTime": {
     "end_time": "2021-05-25T03:32:40.266007Z",
     "start_time": "2021-05-25T03:28:14.685340Z"
    }
   },
   "outputs": [
    {
     "name": "stdout",
     "output_type": "stream",
     "text": [
      "Epoch 1/15\n",
      "4/5 [=======================>......] - ETA: 2s - loss: 1.0690 - accuracy: 0.2578\n",
      "Epoch 00001: val_accuracy improved from -inf to 0.54375, saving model to model_cnn.hdf5\n",
      "5/5 [==============================] - 17s 3s/step - loss: 1.0392 - accuracy: 0.2875 - val_loss: 0.7038 - val_accuracy: 0.5437\n",
      "Epoch 2/15\n",
      "4/5 [=======================>......] - ETA: 2s - loss: 0.5985 - accuracy: 0.6800\n",
      "Epoch 00002: val_accuracy improved from 0.54375 to 0.79375, saving model to model_cnn.hdf5\n",
      "5/5 [==============================] - 17s 3s/step - loss: 0.5836 - accuracy: 0.6624 - val_loss: 0.4062 - val_accuracy: 0.7937\n",
      "Epoch 3/15\n",
      "4/5 [=======================>......] - ETA: 2s - loss: 0.3933 - accuracy: 0.7656\n",
      "Epoch 00003: val_accuracy did not improve from 0.79375\n",
      "5/5 [==============================] - 18s 4s/step - loss: 0.3683 - accuracy: 0.7834 - val_loss: 0.4011 - val_accuracy: 0.7812\n",
      "Epoch 4/15\n",
      "4/5 [=======================>......] - ETA: 2s - loss: 0.4414 - accuracy: 0.7188\n",
      "Epoch 00004: val_accuracy did not improve from 0.79375\n",
      "5/5 [==============================] - 17s 3s/step - loss: 0.4178 - accuracy: 0.7312 - val_loss: 0.3617 - val_accuracy: 0.7875\n",
      "Epoch 5/15\n",
      "4/5 [=======================>......] - ETA: 2s - loss: 0.3333 - accuracy: 0.7734\n",
      "Epoch 00005: val_accuracy improved from 0.79375 to 0.85000, saving model to model_cnn.hdf5\n",
      "5/5 [==============================] - 17s 3s/step - loss: 0.3202 - accuracy: 0.7750 - val_loss: 0.3048 - val_accuracy: 0.8500\n",
      "Epoch 6/15\n",
      "4/5 [=======================>......] - ETA: 2s - loss: 0.2890 - accuracy: 0.8800\n",
      "Epoch 00006: val_accuracy improved from 0.85000 to 0.90000, saving model to model_cnn.hdf5\n",
      "5/5 [==============================] - 17s 3s/step - loss: 0.2842 - accuracy: 0.8790 - val_loss: 0.2773 - val_accuracy: 0.9000\n",
      "Epoch 7/15\n",
      "4/5 [=======================>......] - ETA: 2s - loss: 0.2429 - accuracy: 0.9297\n",
      "Epoch 00007: val_accuracy improved from 0.90000 to 0.91875, saving model to model_cnn.hdf5\n",
      "5/5 [==============================] - 18s 4s/step - loss: 0.2444 - accuracy: 0.9312 - val_loss: 0.2520 - val_accuracy: 0.9187\n",
      "Epoch 8/15\n",
      "4/5 [=======================>......] - ETA: 2s - loss: 0.2386 - accuracy: 0.9280\n",
      "Epoch 00008: val_accuracy did not improve from 0.91875\n",
      "5/5 [==============================] - 18s 4s/step - loss: 0.2276 - accuracy: 0.9363 - val_loss: 0.2360 - val_accuracy: 0.9062\n",
      "Epoch 9/15\n",
      "4/5 [=======================>......] - ETA: 2s - loss: 0.2010 - accuracy: 0.9375\n",
      "Epoch 00009: val_accuracy did not improve from 0.91875\n",
      "5/5 [==============================] - 17s 3s/step - loss: 0.2006 - accuracy: 0.9375 - val_loss: 0.2219 - val_accuracy: 0.9125\n",
      "Epoch 10/15\n",
      "4/5 [=======================>......] - ETA: 3s - loss: 0.1557 - accuracy: 0.9531\n",
      "Epoch 00010: val_accuracy did not improve from 0.91875\n",
      "5/5 [==============================] - 19s 4s/step - loss: 0.1665 - accuracy: 0.9500 - val_loss: 0.2192 - val_accuracy: 0.9187\n",
      "Epoch 11/15\n",
      "4/5 [=======================>......] - ETA: 2s - loss: 0.1386 - accuracy: 0.9680\n",
      "Epoch 00011: val_accuracy improved from 0.91875 to 0.92500, saving model to model_cnn.hdf5\n",
      "5/5 [==============================] - 18s 4s/step - loss: 0.1382 - accuracy: 0.9682 - val_loss: 0.1923 - val_accuracy: 0.9250\n",
      "Epoch 12/15\n",
      "4/5 [=======================>......] - ETA: 2s - loss: 0.1319 - accuracy: 0.9688\n",
      "Epoch 00012: val_accuracy improved from 0.92500 to 0.94375, saving model to model_cnn.hdf5\n",
      "5/5 [==============================] - 18s 4s/step - loss: 0.1595 - accuracy: 0.9500 - val_loss: 0.1660 - val_accuracy: 0.9438\n",
      "Epoch 13/15\n",
      "4/5 [=======================>......] - ETA: 3s - loss: 0.1596 - accuracy: 0.9297\n",
      "Epoch 00013: val_accuracy did not improve from 0.94375\n",
      "5/5 [==============================] - 18s 4s/step - loss: 0.1442 - accuracy: 0.9438 - val_loss: 0.1865 - val_accuracy: 0.9438\n",
      "Epoch 14/15\n",
      "4/5 [=======================>......] - ETA: 3s - loss: 0.1052 - accuracy: 0.9680\n",
      "Epoch 00014: val_accuracy did not improve from 0.94375\n",
      "5/5 [==============================] - 19s 4s/step - loss: 0.1212 - accuracy: 0.9490 - val_loss: 0.1779 - val_accuracy: 0.9438\n",
      "Epoch 15/15\n",
      "4/5 [=======================>......] - ETA: 3s - loss: 0.0944 - accuracy: 0.9766\n",
      "Epoch 00015: val_accuracy did not improve from 0.94375\n",
      "5/5 [==============================] - 19s 4s/step - loss: 0.0966 - accuracy: 0.9750 - val_loss: 0.1705 - val_accuracy: 0.9438\n"
     ]
    }
   ],
   "source": [
    "# 请在这里填写您的代码\n",
    "\n",
    "history_object = model_final.fit_generator(\n",
    "train_generator,\n",
    "steps_per_epoch = 5,      \n",
    "epochs = 15,\n",
    "validation_data = validation_generator,\n",
    "validation_steps = 5,  \n",
    "callbacks = [checkpoint] )\n"
   ]
  },
  {
   "cell_type": "markdown",
   "metadata": {},
   "source": [
    "### 步骤6 绘制准确率曲线和损失曲线"
   ]
  },
  {
   "cell_type": "code",
   "execution_count": 11,
   "metadata": {
    "ExecuteTime": {
     "end_time": "2021-05-25T03:32:54.784475Z",
     "start_time": "2021-05-25T03:32:54.309325Z"
    }
   },
   "outputs": [
    {
     "name": "stdout",
     "output_type": "stream",
     "text": [
      "dict_keys(['loss', 'accuracy', 'val_loss', 'val_accuracy'])\n"
     ]
    },
    {
     "data": {
      "image/png": "[encoded data removed]",
      "text/plain": [
       "<Figure size 432x288 with 1 Axes>"
      ]
     },
     "metadata": {
      "needs_background": "light"
     },
     "output_type": "display_data"
    }
   ],
   "source": [
    "print(history_object.history.keys())\n",
    "plt.plot(history_object.history['accuracy'])\n",
    "plt.plot(history_object.history['val_accuracy'])\n",
    "plt.title('model accuracy')\n",
    "plt.ylabel('acc')\n",
    "plt.xlabel('epoch')\n",
    "plt.legend(['train', 'test'], loc='upper left')\n",
    "plt.show()"
   ]
  },
  {
   "cell_type": "markdown",
   "metadata": {},
   "source": [
    "从曲线图中我们可以看到，模型的准确率得到提高，说明模型在训练过程中得到进步。"
   ]
  },
  {
   "cell_type": "code",
   "execution_count": 12,
   "metadata": {
    "ExecuteTime": {
     "end_time": "2021-05-25T03:33:03.804303Z",
     "start_time": "2021-05-25T03:33:03.533168Z"
    }
   },
   "outputs": [
    {
     "data": {
      "image/png": "[encoded data removed]",
      "text/plain": [
       "<Figure size 432x288 with 1 Axes>"
      ]
     },
     "metadata": {
      "needs_background": "light"
     },
     "output_type": "display_data"
    }
   ],
   "source": [
    "plt.plot(history_object.history['loss'])\n",
    "plt.plot(history_object.history['val_loss'])\n",
    "plt.title('model loss')\n",
    "plt.ylabel('loss')\n",
    "plt.xlabel('epoch')\n",
    "plt.legend(['train', 'test'], loc='upper left')\n",
    "plt.show()"
   ]
  },
  {
   "cell_type": "markdown",
   "metadata": {},
   "source": [
    "从曲线图中可以看到，随着训练次数提升，损失值逐步下降。我们的车位检测神经网络就训练完成了，在下一篇中我们将用训练好的神经网络去识别真实环境下的停车场车位变化。"
   ]
  }
 ],
 "metadata": {
  "kernelspec": {
   "display_name": "Python 3",
   "language": "python",
   "name": "python3"
  },
  "language_info": {
   "codemirror_mode": {
    "name": "ipython",
    "version": 3
   },
   "file_extension": ".py",
   "mimetype": "text/x-python",
   "name": "python",
   "nbconvert_exporter": "python",
   "pygments_lexer": "ipython3",
   "version": "3.7.4"
  },
  "nbTranslate": {
   "displayLangs": [
    "en"
   ],
   "hotkey": "alt-t",
   "langInMainMenu": true,
   "sourceLang": "en",
   "targetLang": "fr",
   "useGoogleTranslate": true
  },
  "toc": {
   "base_numbering": 1,
   "nav_menu": {},
   "number_sections": false,
   "sideBar": true,
   "skip_h1_title": false,
   "title_cell": "Table of Contents",
   "title_sidebar": "Contents",
   "toc_cell": false,
   "toc_position": {},
   "toc_section_display": true,
   "toc_window_display": true
  }
 },
 "nbformat": 4,
 "nbformat_minor": 2
}
